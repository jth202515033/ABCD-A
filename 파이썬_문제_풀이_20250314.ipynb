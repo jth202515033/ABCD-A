{
  "nbformat": 4,
  "nbformat_minor": 0,
  "metadata": {
    "colab": {
      "provenance": [],
      "authorship_tag": "ABX9TyNcv95B5RPX6H2OwctV8l3k",
      "include_colab_link": true
    },
    "kernelspec": {
      "name": "python3",
      "display_name": "Python 3"
    },
    "language_info": {
      "name": "python"
    }
  },
  "cells": [
    {
      "cell_type": "markdown",
      "metadata": {
        "id": "view-in-github",
        "colab_type": "text"
      },
      "source": [
        "<a href=\"https://colab.research.google.com/github/jth202515033/ABCD-A/blob/20250314/%ED%8C%8C%EC%9D%B4%EC%8D%AC_%EB%AC%B8%EC%A0%9C_%ED%92%80%EC%9D%B4_20250314.ipynb\" target=\"_parent\"><img src=\"https://colab.research.google.com/assets/colab-badge.svg\" alt=\"Open In Colab\"/></a>"
      ]
    },
    {
      "cell_type": "code",
      "execution_count": 1,
      "metadata": {
        "id": "EBW6MfUypOAG"
      },
      "outputs": [],
      "source": [
        "print(\"Hello World\")\n",
        "print(\"May's cosmetics\")\n",
        "print('신씨가 소리를 질렀다. \"도둑이야\"')\n",
        "print(\"C:\\\\Windows\")\n",
        "print(\"안녕하세요. \\n만나서 \\t\\t반갑습니다.\")\n",
        "print(\"오늘은\", \"일요일\")\n",
        "print(\"naver\", \"kakao\", \"sk\", \"samsung\", end=';')\n",
        "print(\"naver\", \"kakao\", \"sk\", \"samsung\", end='/')\n",
        "print(\"first\",  end=\"\");print(\"second\",  end=\"\")\n",
        "print(5/3)\n"
      ]
    }
  ]
}
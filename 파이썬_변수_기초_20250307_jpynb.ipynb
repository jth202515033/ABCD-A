{
  "nbformat": 4,
  "nbformat_minor": 0,
  "metadata": {
    "colab": {
      "provenance": [],
      "authorship_tag": "ABX9TyM3YKE2XjyKQvZ1XTyhXtxM",
      "include_colab_link": true
    },
    "kernelspec": {
      "name": "python3",
      "display_name": "Python 3"
    },
    "language_info": {
      "name": "python"
    }
  },
  "cells": [
    {
      "cell_type": "markdown",
      "metadata": {
        "id": "view-in-github",
        "colab_type": "text"
      },
      "source": [
        "<a href=\"https://colab.research.google.com/github/jth202515033/ABCD-A/blob/20250307/%ED%8C%8C%EC%9D%B4%EC%8D%AC_%EB%B3%80%EC%88%98_%EA%B8%B0%EC%B4%88_20250307_jpynb.ipynb\" target=\"_parent\"><img src=\"https://colab.research.google.com/assets/colab-badge.svg\" alt=\"Open In Colab\"/></a>"
      ]
    },
    {
      "cell_type": "code",
      "execution_count": null,
      "metadata": {
        "id": "zb_fzFhQENDr"
      },
      "outputs": [],
      "source": [
        "print (\"변수기초\")"
      ]
    }
  ]
}
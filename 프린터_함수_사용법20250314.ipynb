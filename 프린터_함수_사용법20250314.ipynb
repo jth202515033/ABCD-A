{
  "nbformat": 4,
  "nbformat_minor": 0,
  "metadata": {
    "colab": {
      "provenance": [],
      "authorship_tag": "ABX9TyOMG1X+IqQDjrxOATkrqyqn",
      "include_colab_link": true
    },
    "kernelspec": {
      "name": "python3",
      "display_name": "Python 3"
    },
    "language_info": {
      "name": "python"
    }
  },
  "cells": [
    {
      "cell_type": "markdown",
      "metadata": {
        "id": "view-in-github",
        "colab_type": "text"
      },
      "source": [
        "<a href=\"https://colab.research.google.com/github/jth202515033/ABCD-A/blob/20250314/%ED%94%84%EB%A6%B0%ED%84%B0_%ED%95%A8%EC%88%98_%EC%82%AC%EC%9A%A9%EB%B2%9520250314.ipynb\" target=\"_parent\"><img src=\"https://colab.research.google.com/assets/colab-badge.svg\" alt=\"Open In Colab\"/></a>"
      ]
    },
    {
      "cell_type": "code",
      "execution_count": null,
      "metadata": {
        "id": "JzJQED90GfBQ"
      },
      "outputs": [],
      "source": [
        "print(\"Hello\")\n",
        "print('hello','everyone')\n",
        "print('Hello'+'everyone')\n",
        "\n",
        "\n",
        "print('Hello',end='')\n",
        "print('test')\n",
        "\n",
        "\n",
        "a =123\n",
        "b ='hello'\n",
        "print(a,b)\n",
        "print(a,456,b,'world')\n",
        "\n",
        "\n",
        "print('Hello\" Python')\n",
        "print(\"Hello 'Python'\")\n",
        "print('Hello','Python!')\n",
        "print('Hello'+'Python!')"
      ]
    }
  ]
}
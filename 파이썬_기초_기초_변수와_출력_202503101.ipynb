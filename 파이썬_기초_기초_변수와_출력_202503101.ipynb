{
  "nbformat": 4,
  "nbformat_minor": 0,
  "metadata": {
    "colab": {
      "provenance": [],
      "authorship_tag": "ABX9TyNXP7rFEAgz1DYAIXCmDy1r",
      "include_colab_link": true
    },
    "kernelspec": {
      "name": "python3",
      "display_name": "Python 3"
    },
    "language_info": {
      "name": "python"
    }
  },
  "cells": [
    {
      "cell_type": "markdown",
      "metadata": {
        "id": "view-in-github",
        "colab_type": "text"
      },
      "source": [
        "<a href=\"https://colab.research.google.com/github/jth202515033/ABCD-A/blob/20250310/%ED%8C%8C%EC%9D%B4%EC%8D%AC_%EA%B8%B0%EC%B4%88_%EA%B8%B0%EC%B4%88_%EB%B3%80%EC%88%98%EC%99%80_%EC%B6%9C%EB%A0%A5_202503101.ipynb\" target=\"_parent\"><img src=\"https://colab.research.google.com/assets/colab-badge.svg\" alt=\"Open In Colab\"/></a>"
      ]
    },
    {
      "cell_type": "code",
      "source": [
        "watch = 100000\n",
        "print(watch)"
      ],
      "metadata": {
        "colab": {
          "base_uri": "https://localhost:8080/"
        },
        "id": "XVSdrt6JHLHM",
        "outputId": "b45f3ff0-2b4b-4b9f-ca25-ad7853a6f9d6"
      },
      "execution_count": 22,
      "outputs": [
        {
          "output_type": "stream",
          "name": "stdout",
          "text": [
            "100000\n"
          ]
        }
      ]
    },
    {
      "cell_type": "code",
      "execution_count": 15,
      "metadata": {
        "colab": {
          "base_uri": "https://localhost:8080/"
        },
        "id": "ar4E00L7AJRr",
        "outputId": "e373d409-7e38-40b4-d352-e208ee22912b"
      },
      "outputs": [
        {
          "output_type": "stream",
          "name": "stdout",
          "text": [
            "pig\n",
            "dad\n",
            "pigdad\n",
            "pig dad\n"
          ]
        }
      ],
      "source": [
        "a =  'pig'\n",
        "b =  'dad'\n",
        "\n",
        "print(a)\n",
        "print(b)\n",
        "print(a+b)\n",
        "print(a+' '+b)"
      ]
    },
    {
      "cell_type": "code",
      "source": [
        "a=10\n",
        "a,b=(10,20)\n",
        "[a,b]=[10,20]\n",
        "a=b=10\n",
        "a=None"
      ],
      "metadata": {
        "id": "DNHq4LhlGMQl"
      },
      "execution_count": 28,
      "outputs": []
    },
    {
      "cell_type": "code",
      "source": [
        "a = 10\n",
        "b = 2000\n",
        "a,b = b,a"
      ],
      "metadata": {
        "id": "HqacH9sQIH25"
      },
      "execution_count": 27,
      "outputs": []
    },
    {
      "cell_type": "code",
      "source": [
        "a = [10,20,30]"
      ],
      "metadata": {
        "id": "1HJa5yS7IOT4"
      },
      "execution_count": 26,
      "outputs": []
    },
    {
      "cell_type": "code",
      "source": [
        "a = [10,20,30]\n",
        "b = a"
      ],
      "metadata": {
        "id": "haXZ09OIIOpx"
      },
      "execution_count": 25,
      "outputs": []
    },
    {
      "cell_type": "code",
      "source": [
        "a = [10,20,30]\n",
        "b = a"
      ],
      "metadata": {
        "id": "iHEs5pZ0IO5L"
      },
      "execution_count": 24,
      "outputs": []
    },
    {
      "cell_type": "code",
      "source": [
        "a = [10,20,30]\n",
        "b = a\n",
        "a[0] = 200\n",
        "print(b)"
      ],
      "metadata": {
        "colab": {
          "base_uri": "https://localhost:8080/"
        },
        "id": "NCnl3aZYIPJA",
        "outputId": "7b654997-8519-4b08-fd6d-8802b3fc0c86"
      },
      "execution_count": 23,
      "outputs": [
        {
          "output_type": "stream",
          "name": "stdout",
          "text": [
            "[200, 20, 30]\n"
          ]
        }
      ]
    },
    {
      "cell_type": "code",
      "source": [
        "print(\"Hello world\")\n",
        "print(1)\n",
        "a=1\n",
        "print(a)"
      ],
      "metadata": {
        "colab": {
          "base_uri": "https://localhost:8080/"
        },
        "id": "lFeTHTrOIall",
        "outputId": "bdb0b1cc-1f02-49fa-85df-591a352b1daa"
      },
      "execution_count": 29,
      "outputs": [
        {
          "output_type": "stream",
          "name": "stdout",
          "text": [
            "Hello world\n",
            "1\n",
            "1\n"
          ]
        }
      ]
    },
    {
      "cell_type": "code",
      "source": [
        "print(\"a=\"+str(a))\n",
        "print(\"a=\",  a)\n",
        "print( \"a={}\" .format(a) )"
      ],
      "metadata": {
        "colab": {
          "base_uri": "https://localhost:8080/"
        },
        "id": "HdIajeSyIf6L",
        "outputId": "8d67a1f1-b83f-48d7-f219-782eacf012c5"
      },
      "execution_count": 31,
      "outputs": [
        {
          "output_type": "stream",
          "name": "stdout",
          "text": [
            "a=1\n",
            "a= 1\n",
            "a=1\n"
          ]
        }
      ]
    }
  ]
}